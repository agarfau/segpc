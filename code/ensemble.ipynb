{
 "cells": [
  {
   "cell_type": "markdown",
   "metadata": {},
   "source": [
    "# Ensemble"
   ]
  },
  {
   "cell_type": "code",
   "execution_count": null,
   "metadata": {},
   "outputs": [],
   "source": [
    "%load_ext autoreload\n",
    "%autoreload 2\n",
    "\n",
    "import json\n",
    "from copy import deepcopy\n",
    "import os\n",
    "import sys\n",
    "import numpy as np\n",
    "import pandas as pd\n",
    "import matplotlib.pyplot as plt\n",
    "from math import ceil\n",
    "from pycocotools.coco import COCO\n",
    "from pycocotools import mask as maskUtils\n",
    "from IPython.display import display, clear_output\n",
    "import glob\n",
    "import cv2\n",
    "import pickle5 as pickle\n",
    "from multiprocessing import Pool\n",
    "from itertools import repeat\n",
    "from utils import get_paths, process_img_for_ensemble"
   ]
  },
  {
   "cell_type": "markdown",
   "metadata": {},
   "source": [
    "## Execution parameters"
   ]
  },
  {
   "cell_type": "code",
   "execution_count": null,
   "metadata": {},
   "outputs": [],
   "source": [
    "num_cpus = 24  # Number of CPUs to be used\n",
    "base_dir = ''  # Specify full path to provided directory 'final_ensemble_models_and_results'\n",
    "img_dir = ''  # Specify full path to 'x' directory of SegPC final test set images\n",
    "\n",
    "export_flag = True  # Set to False to disable the creation of images"
   ]
  },
  {
   "cell_type": "markdown",
   "metadata": {},
   "source": [
    "### No need to modify anything below this point"
   ]
  },
  {
   "cell_type": "code",
   "execution_count": null,
   "metadata": {},
   "outputs": [],
   "source": [
    "output_dir = os.path.join(base_dir, 'result_images')\n",
    "if export_flag:\n",
    "    print('Exporting images to:', output_dir)\n",
    "    if not os.path.exists(output_dir):\n",
    "        os.makedirs(output_dir)"
   ]
  },
  {
   "cell_type": "code",
   "execution_count": null,
   "metadata": {},
   "outputs": [],
   "source": [
    "model_codes = [\n",
    "    'scnet_r50_20e',\n",
    "    'scnet_s50_1x',\n",
    "    'scnet_r101_20e',\n",
    "    'htc_r50_1x',\n",
    "    'htc_r101_20e',\n",
    "    'scnet_s101_1x',\n",
    "    'htc_s101_1x'\n",
    "]\n",
    "\n",
    "epochs = ['epoch_13', 'epoch_5', 'epoch_12', 'epoch_11', 'epoch_14', 'epoch_3', 'epoch_2']\n",
    "\n",
    "iou_thold = 0.85\n",
    "\n",
    "cat_ids = {\n",
    "    'nucleus_id': 0,\n",
    "    'cytoplasm_id': 1,\n",
    "    'cell_id': 2,\n",
    "}\n",
    "\n",
    "initial_score_thold = 0  # Score threshold to directly filter out some nucleus and cytoplasm candidates"
   ]
  },
  {
   "cell_type": "code",
   "execution_count": null,
   "metadata": {
    "scrolled": true
   },
   "outputs": [],
   "source": [
    "model_results_dict = {k: None for k in model_codes}\n",
    "model_paths_dict = {k: None for k in model_codes}\n",
    "\n",
    "for model_code, epoch in zip(model_codes, epochs):\n",
    "    model_paths_dict[model_code] = get_paths(img_dir, base_dir, model_code, epoch)\n",
    "    \n",
    "    with open(model_paths_dict[model_code]['all_results_df_file'], \"rb\") as fh:\n",
    "          model_results_dict[model_code] = pickle.load(fh)        "
   ]
  },
  {
   "cell_type": "code",
   "execution_count": null,
   "metadata": {
    "scrolled": false
   },
   "outputs": [],
   "source": [
    "ref_model_code = model_codes[0]\n",
    "other_models_codes = model_codes[1:]\n",
    "\n",
    "cocoGt = COCO(model_paths_dict[ref_model_code]['ann_file'])\n",
    "result_anns = json.load(open(model_paths_dict[ref_model_code]['segm_result_file']))\n",
    "\n",
    "all_results_df = pd.DataFrame()\n",
    "\n",
    "\n",
    "processing_pool = Pool(num_cpus)\n",
    "\n",
    "img_ids = cocoGt.getImgIds()\n",
    "results = processing_pool.starmap(process_img_for_ensemble, zip(img_ids,\n",
    "                                                   repeat(cocoGt),\n",
    "                                                   repeat(model_paths_dict),\n",
    "                                                   repeat(model_results_dict),\n",
    "                                                   repeat(ref_model_code),\n",
    "                                                   repeat(other_models_codes),\n",
    "                                                   repeat(iou_thold),\n",
    "                                                   repeat(export_flag),\n",
    "                                                   repeat(output_dir)\n",
    "                                                  ))\n",
    "\n",
    "for result in results:\n",
    "    all_results_df = pd.concat([all_results_df, result], axis=0, ignore_index=True)\n",
    "\n",
    "processing_pool.close()"
   ]
  },
  {
   "cell_type": "code",
   "execution_count": null,
   "metadata": {},
   "outputs": [],
   "source": []
  }
 ],
 "metadata": {
  "kernelspec": {
   "display_name": "Python 3",
   "language": "python",
   "name": "python3"
  },
  "language_info": {
   "codemirror_mode": {
    "name": "ipython",
    "version": 3
   },
   "file_extension": ".py",
   "mimetype": "text/x-python",
   "name": "python",
   "nbconvert_exporter": "python",
   "pygments_lexer": "ipython3",
   "version": "3.7.10"
  }
 },
 "nbformat": 4,
 "nbformat_minor": 4
}