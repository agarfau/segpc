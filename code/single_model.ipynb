{
 "cells": [
  {
   "cell_type": "markdown",
   "metadata": {},
   "source": [
    "# Single model"
   ]
  },
  {
   "cell_type": "code",
   "execution_count": null,
   "metadata": {},
   "outputs": [],
   "source": [
    "%load_ext autoreload\n",
    "%autoreload 2\n",
    "\n",
    "import json\n",
    "import copy\n",
    "import os\n",
    "import sys\n",
    "import numpy as np\n",
    "import pandas as pd\n",
    "import matplotlib.pyplot as plt\n",
    "from math import ceil\n",
    "from pycocotools.coco import COCO\n",
    "from pycocotools import mask as maskUtils\n",
    "from IPython.display import display, clear_output\n",
    "import glob\n",
    "import cv2\n",
    "\n",
    "from utils import get_category_annotations, merge_by_largest_overlap"
   ]
  },
  {
   "cell_type": "markdown",
   "metadata": {},
   "source": [
    "## Execution parameters"
   ]
  },
  {
   "cell_type": "code",
   "execution_count": null,
   "metadata": {},
   "outputs": [],
   "source": [
    "base_dir = '/data/segpc_phase2/aug_images50/training_logs/final_ensemble_models_and_results'\n",
    "img_dir = '/data_ssd/segpc_phase2/segpc_val/x'\n",
    "\n",
    "model_code = 'htc_s101_1x'  # Specify model code for which we want to generate result images\n",
    "\n",
    "export_images_flag = True  # Needed to generate submission file\n",
    "export_df_flag = True  # Needed to use these predictions in an ensemble"
   ]
  },
  {
   "cell_type": "markdown",
   "metadata": {},
   "source": [
    "### No need to modify anything below this point"
   ]
  },
  {
   "cell_type": "code",
   "execution_count": null,
   "metadata": {},
   "outputs": [],
   "source": [
    "model_epoch_map = {\n",
    "    'htc_r50_1x': 'epoch_11',\n",
    "    'htc_r101_20e': 'epoch_11',\n",
    "    'htc_s101_1x': 'epoch_2',\n",
    "    'scnet_r50_20e': 'epoch_13',\n",
    "    'scnet_r101_20e': 'epoch_12',\n",
    "    'scnet_s50_1x': 'epoch_5',\n",
    "    'scnet_s101_1x': 'epoch_3'\n",
    "}\n",
    "\n",
    "epoch = model_epoch_map[model_code]"
   ]
  },
  {
   "cell_type": "code",
   "execution_count": null,
   "metadata": {},
   "outputs": [],
   "source": [
    "ann_file = os.path.join(base_dir, 'final_test_set_annotations.json')\n",
    "segm_result_file = os.path.join(base_dir, f'{model_code}_segpc_val_set_results_{epoch}.segm.json')\n",
    "output_dir = os.path.join(base_dir, f'single_model_results/{model_code}_{epoch}')\n",
    "\n",
    "print('Reading COCO results from:', segm_result_file)"
   ]
  },
  {
   "cell_type": "code",
   "execution_count": null,
   "metadata": {
    "scrolled": true
   },
   "outputs": [],
   "source": [
    "cocoGt = COCO(ann_file)\n",
    "result_anns = json.load(open(segm_result_file))\n",
    "\n",
    "nucleus_id = 0\n",
    "cytoplasm_id = 1\n",
    "cell_id = 2\n",
    "\n",
    "initial_score_thold = 0  # Score threshold to directly filter out some nucleus and cytoplasm candidates"
   ]
  },
  {
   "cell_type": "code",
   "execution_count": null,
   "metadata": {
    "scrolled": true
   },
   "outputs": [],
   "source": [
    "export_flag = export_images_flag\n",
    "\n",
    "if export_flag:\n",
    "    if not os.path.exists(output_dir):\n",
    "        os.makedirs(output_dir)\n",
    "\n",
    "all_results_df = pd.DataFrame()\n",
    "\n",
    "remove_empty_masks=True\n",
    "\n",
    "for img_id in cocoGt.getImgIds():\n",
    "    filename = cocoGt.loadImgs([img_id])[0]['file_name']\n",
    "    orig_img = plt.imread(os.path.join(img_dir, filename))\n",
    "    print(f'img_id:{img_id}, filename:{filename}')\n",
    "\n",
    "    cell_anns_df = get_category_annotations(result_anns, img_id, cell_id, remove_empty_masks, initial_score_thold)\n",
    "    if cell_anns_df is None:\n",
    "        print(f'NO CELL ANNOTATIONS GENERATED FOR THIS IMAGE')\n",
    "        continue\n",
    "    \n",
    "    nuc_anns_df = get_category_annotations(result_anns, img_id, nucleus_id, remove_empty_masks, initial_score_thold)\n",
    "    cyt_anns_df = get_category_annotations(result_anns, img_id, cytoplasm_id, remove_empty_masks, initial_score_thold)\n",
    "        \n",
    "    if nuc_anns_df is None and cyt_anns_df is None:\n",
    "        print(f'NO NUCLEUS NOR CYTOPLASM ANNOTATIONS GENERATED FOR THIS IMAGE')\n",
    "        continue\n",
    "    \n",
    "    merged_anns_df = merge_by_largest_overlap(cell_anns_df, nuc_anns_df, cyt_anns_df)\n",
    "    merged_anns_df['filename'] = filename\n",
    "    \n",
    "    all_results_df = pd.concat([all_results_df, merged_anns_df], axis=0, ignore_index=True)\n",
    "        \n",
    "    # Generate images with all the instances for visualization\n",
    "    all_nuc_masks = np.zeros(orig_img.shape[:2])\n",
    "    for idx, (nuc_mask, cell_mask) in enumerate(zip(merged_anns_df['nuc_mask'], merged_anns_df['mask'])):\n",
    "        out_nuc_img = 20*(np.logical_and(np.logical_not(nuc_mask), cell_mask)) + 40*nuc_mask\n",
    "        # Export individual instances\n",
    "        if export_flag:\n",
    "            out_nuc_img_path = os.path.join(output_dir, f'{filename[:-4]}_{idx+1}.bmp')\n",
    "            plt.imsave(out_nuc_img_path, out_nuc_img, cmap='gray', vmin=0, vmax=255)\n",
    "    "
   ]
  },
  {
   "cell_type": "code",
   "execution_count": null,
   "metadata": {},
   "outputs": [],
   "source": [
    "if export_df_flag:\n",
    "    if not os.path.exists(output_dir):\n",
    "        os.makedirs(output_dir)\n",
    "    all_results_df.drop(['mask', 'nuc_mask', 'cyt_mask'], axis=1).to_pickle(\n",
    "        os.path.join(output_dir, f'../all_results_df_{model_code}_{epoch}.pkl'))  "
   ]
  },
  {
   "cell_type": "code",
   "execution_count": null,
   "metadata": {},
   "outputs": [],
   "source": []
  }
 ],
 "metadata": {
  "kernelspec": {
   "display_name": "Python 3",
   "language": "python",
   "name": "python3"
  },
  "language_info": {
   "codemirror_mode": {
    "name": "ipython",
    "version": 3
   },
   "file_extension": ".py",
   "mimetype": "text/x-python",
   "name": "python",
   "nbconvert_exporter": "python",
   "pygments_lexer": "ipython3",
   "version": "3.7.10"
  }
 },
 "nbformat": 4,
 "nbformat_minor": 4
}